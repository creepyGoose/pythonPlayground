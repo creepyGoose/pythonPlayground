{
  "nbformat": 4,
  "nbformat_minor": 5,
  "metadata": {
    "colab": {
      "name": "Técnicas_Avançadas_de_Python.ipynb",
      "provenance": [],
      "collapsed_sections": [],
      "include_colab_link": true
    },
    "kernelspec": {
      "display_name": "Python 3 (ipykernel)",
      "language": "python",
      "name": "python3"
    },
    "language_info": {
      "codemirror_mode": {
        "name": "ipython",
        "version": 3
      },
      "file_extension": ".py",
      "mimetype": "text/x-python",
      "name": "python",
      "nbconvert_exporter": "python",
      "pygments_lexer": "ipython3",
      "version": "3.9.6"
    }
  },
  "cells": [
    {
      "cell_type": "markdown",
      "metadata": {
        "id": "view-in-github",
        "colab_type": "text"
      },
      "source": [
        "<a href=\"https://colab.research.google.com/github/eueid/pythonPlayground/blob/main/T%C3%A9cnicas_Avan%C3%A7adas_de_Python.ipynb\" target=\"_parent\"><img src=\"https://colab.research.google.com/assets/colab-badge.svg\" alt=\"Open In Colab\"/></a>"
      ]
    },
    {
      "cell_type": "code",
      "metadata": {
        "id": "b6b5b240",
        "outputId": "5594f06d-4c8f-4dae-efb9-a44de2331f11"
      },
      "source": [
        "x = False\n",
        "print(not x)"
      ],
      "id": "b6b5b240",
      "execution_count": null,
      "outputs": [
        {
          "output_type": "stream",
          "text": [
            "True\n"
          ],
          "name": "stdout"
        }
      ]
    },
    {
      "cell_type": "code",
      "metadata": {
        "id": "1b781dfc",
        "outputId": "189ffa30-5853-49bc-f786-18119b2a1683"
      },
      "source": [
        "x = []\n",
        "print(bool(x))"
      ],
      "id": "1b781dfc",
      "execution_count": null,
      "outputs": [
        {
          "output_type": "stream",
          "text": [
            "False\n"
          ],
          "name": "stdout"
        }
      ]
    },
    {
      "cell_type": "code",
      "metadata": {
        "id": "1208de9a",
        "outputId": "e5a04eb0-5e0b-4d1c-ef73-5f417284c748"
      },
      "source": [
        "y = {}\n",
        "print(bool(y))"
      ],
      "id": "1208de9a",
      "execution_count": null,
      "outputs": [
        {
          "output_type": "stream",
          "text": [
            "False\n"
          ],
          "name": "stdout"
        }
      ]
    },
    {
      "cell_type": "code",
      "metadata": {
        "id": "4fc39802",
        "outputId": "eb039476-0c3b-49c3-bcb1-2c762b09cdd7"
      },
      "source": [
        "#definindo alguns valores iniciais\n",
        "b = bytes([0x41, 0x42, 0x43, 0x44])\n",
        "print(b)\n",
        "s = \"Isto é uma String\"\n",
        "print(s)\n",
        "#  Concatenando uma String com um conjunto de bytes\n",
        "print (s + b.decode('utf-8'))\n",
        "# Transformando uma String num conjunto de bytes\n",
        "print (s.encode('utf-32') + b)"
      ],
      "id": "4fc39802",
      "execution_count": null,
      "outputs": [
        {
          "output_type": "stream",
          "text": [
            "b'ABCD'\n",
            "Isto é uma String\n",
            "Isto é uma StringABCD\n",
            "b'\\xff\\xfe\\x00\\x00I\\x00\\x00\\x00s\\x00\\x00\\x00t\\x00\\x00\\x00o\\x00\\x00\\x00 \\x00\\x00\\x00\\xe9\\x00\\x00\\x00 \\x00\\x00\\x00u\\x00\\x00\\x00m\\x00\\x00\\x00a\\x00\\x00\\x00 \\x00\\x00\\x00S\\x00\\x00\\x00t\\x00\\x00\\x00r\\x00\\x00\\x00i\\x00\\x00\\x00n\\x00\\x00\\x00g\\x00\\x00\\x00ABCD'\n"
          ],
          "name": "stdout"
        }
      ]
    },
    {
      "cell_type": "code",
      "metadata": {
        "id": "b7662af6",
        "outputId": "e14fe138-41bf-4575-ff20-217477aedfbc"
      },
      "source": [
        "# Criação de templates\n",
        "\n",
        "from string import Template as t\n",
        "frase = \"Você está assistindo {0} com {1}\".format(\"Python Avançando\", \"Jéssica Temporal\")\n",
        "print(frase)\n",
        "\n",
        "templ = t(\"Você está assistindo ${curso} com ${instrutora}\")\n",
        "frase_2 = templ.substitute(\n",
        "      curso = 'Python Avançado',\n",
        "      instrutora = 'Jéssica Temporal'\n",
        ")\n",
        "print(frase_2)\n",
        "\n",
        "#Uso de dicionário\n",
        "dados = {\n",
        "    \"curso\": \"Python Avançado\",\n",
        "    \"instrutora\": \"Jessica Temporal\"\n",
        "}\n",
        "frase_3 = templ.substitute(dados)\n",
        "print(frase_3)"
      ],
      "id": "b7662af6",
      "execution_count": null,
      "outputs": [
        {
          "output_type": "stream",
          "text": [
            "Você está assistindo Python Avançando com Jéssica Temporal\n",
            "Você está assistindo Python Avançado com Jéssica Temporal\n",
            "Você está assistindo Python Avançado com Jessica Temporal\n"
          ],
          "name": "stdout"
        }
      ]
    },
    {
      "cell_type": "code",
      "metadata": {
        "id": "c9b2393c",
        "scrolled": true,
        "outputId": "a6d9c369-5e13-489c-b9d8-205904dab309"
      },
      "source": [
        "lista = [1, 2, 3, 0, 5, 6]\n",
        "# Any retorna true se qualquer valor lista for true\n",
        "print(any(lista))\n",
        "\n",
        "# All retorna se TODOS forem TRUE\n",
        "print(all(lista))\n",
        "\n",
        "# Min retorna o menor valor e Max o maior\n",
        "print(min(lista))\n",
        "print(max(lista))\n",
        "\n",
        "# Sum retorna a soma\n",
        "print(sum(lista))"
      ],
      "id": "c9b2393c",
      "execution_count": null,
      "outputs": [
        {
          "output_type": "stream",
          "text": [
            "True\n",
            "False\n",
            "0\n",
            "6\n",
            "17\n"
          ],
          "name": "stdout"
        }
      ]
    },
    {
      "cell_type": "code",
      "metadata": {
        "id": "0cd254c3",
        "outputId": "0a27ece7-b53b-46eb-f3fb-53001281b109"
      },
      "source": [
        "# Usando iterados como enumerate, zip, iter, next\n",
        "\n",
        "dias = [\"Dom\",\"Seg\", \"Ter\", \"Qua\", \"Qui\", \"Sex\", \"Sab\"]\n",
        "dias_en = [\"Sun\", \"Mon\", \"Tue\", \"Wed\", \"Thu\", \"Fri\", \"Sat\"]\n",
        "\n",
        "i = 0\n",
        "iterador_dias = iter(dias)\n",
        "while i < 3:\n",
        "    print(next(iterador_dias))\n",
        "    i += 1\n",
        "    \n",
        "# Usando o iterador num arquivo .txt\n",
        "with open ('./dados.txt', 'r', encoding='utf8') as a:\n",
        "    for linha in iter(a.readline, ''): #Pulando uma casa\n",
        "        print(linha)\n",
        "        \n",
        "#Usando iteração tradicional (range) sobre a lista dias\n",
        "for numero in range(len(dias)):\n",
        "    print(numero, dias[numero])   \n",
        "    \n",
        "# Usando enumerate. Útil para fazer manipulações de sequências \n",
        "for i, dia in\n"
      ],
      "id": "0cd254c3",
      "execution_count": null,
      "outputs": [
        {
          "output_type": "stream",
          "text": [
            "Dom\n",
            "Seg\n",
            "Ter\n",
            "Essa é a linha 1\n",
            "\n",
            "Essa é a linha 2\n",
            "\n",
            "Essa é a linha 3\n",
            "\n",
            "Essa é a linha 4\n",
            "\n",
            "Essa é a linha 5\n",
            "\n",
            "Essa é a linha 6\n",
            "\n",
            "0 Dom\n",
            "1 Seg\n",
            "2 Ter\n",
            "3 Qua\n",
            "4 Qui\n",
            "5 Sex\n",
            "6 Sab\n"
          ],
          "name": "stdout"
        }
      ]
    },
    {
      "cell_type": "code",
      "metadata": {
        "id": "06228ba3",
        "outputId": "f27a266a-1a76-4562-ca93-9a0b1070c85f"
      },
      "source": [
        "# Usando enumerate. Útil para fazer manipulações de sequências \n",
        "for i, dia in enumerate(dias):\n",
        "    print(i, dia)"
      ],
      "id": "06228ba3",
      "execution_count": null,
      "outputs": [
        {
          "output_type": "stream",
          "text": [
            "0 Dom\n",
            "1 Seg\n",
            "2 Ter\n",
            "3 Qua\n",
            "4 Qui\n",
            "5 Sex\n",
            "6 Sab\n"
          ],
          "name": "stdout"
        }
      ]
    },
    {
      "cell_type": "code",
      "metadata": {
        "id": "18428bd3",
        "outputId": "59a857d3-a078-4b23-e2d4-c2dae8a646f0"
      },
      "source": [
        "# Usando zip para combinar listas. Retorna uma tupla pra cada par de valores\n",
        "for d in zip(dias, dias_en):\n",
        "    print(d)"
      ],
      "id": "18428bd3",
      "execution_count": null,
      "outputs": [
        {
          "output_type": "stream",
          "text": [
            "('Dom', 'Sun')\n",
            "('Seg', 'Mon')\n",
            "('Ter', 'Tue')\n",
            "('Qua', 'Wed')\n",
            "('Qui', 'Thu')\n",
            "('Sex', 'Fri')\n",
            "('Sab', 'Sat')\n"
          ],
          "name": "stdout"
        }
      ]
    },
    {
      "cell_type": "code",
      "metadata": {
        "id": "2590a77f",
        "outputId": "d555e366-e3da-4a6d-bff7-330a17e2f2f2"
      },
      "source": [
        "# Combinando enumerate e zip\n",
        "for i, d in enumerate(zip(dias, dias_en)):\n",
        "    print(i ,d[0], \"=\", d[1], \"em inglês\")"
      ],
      "id": "2590a77f",
      "execution_count": null,
      "outputs": [
        {
          "output_type": "stream",
          "text": [
            "0 Dom = Sun em inglês\n",
            "1 Seg = Mon em inglês\n",
            "2 Ter = Tue em inglês\n",
            "3 Qua = Wed em inglês\n",
            "4 Qui = Thu em inglês\n",
            "5 Sex = Fri em inglês\n",
            "6 Sab = Sat em inglês\n"
          ],
          "name": "stdout"
        }
      ]
    },
    {
      "cell_type": "code",
      "metadata": {
        "id": "08253f70"
      },
      "source": [
        "#Funções transformadoras\n",
        "def primeiro_filtro(x):\n",
        "    if x % 2 == 0:\n",
        "        return False\n",
        "    return True\n",
        "\n",
        "def segundo_filtro(x):\n",
        "    if x.isupper():\n",
        "        return False\n",
        "    return True\n",
        "\n",
        "def quadrado(x):\n",
        "    return x**2\n",
        "\n",
        "def nota_para_conceito(x):\n",
        "   if x >= 90:\n",
        "     return \"A\"\n",
        "   elif (x >= 80 and x < 90):\n",
        "     return \"B\"\n",
        "   elif (x >= 70 and x < 80):\n",
        "     return \"C\"\n",
        "   elif (x >= 65 and x < 70):\n",
        "     return \"D\"\n",
        "   else:\n",
        "    return \"F\"\n",
        "  \n",
        "    \n",
        "\n",
        "numeros = (1, 8, 4, 5, 13, 26, 381, 410, 58, 47)\n",
        "letras = \"abcDeFGHiJklmnoP\"\n",
        "notas = (81,89,94,78,61,66,99,74)"
      ],
      "id": "08253f70",
      "execution_count": null,
      "outputs": []
    },
    {
      "cell_type": "code",
      "metadata": {
        "colab": {
          "base_uri": "https://localhost:8080/"
        },
        "id": "468b7976",
        "outputId": "eb9ac403-6cda-4bb3-8c53-c69469605c0b"
      },
      "source": [
        "# Usando filter para remover itens de uma listas\n",
        "impares = list(filter(primeiro_filtro, numeros))\n",
        "print(impares)"
      ],
      "id": "468b7976",
      "execution_count": null,
      "outputs": [
        {
          "output_type": "stream",
          "text": [
            "[1, 5, 13, 381, 47]\n"
          ],
          "name": "stdout"
        }
      ]
    },
    {
      "cell_type": "code",
      "metadata": {
        "colab": {
          "base_uri": "https://localhost:8080/"
        },
        "id": "e91c748d",
        "outputId": "baa07d78-3252-4ac5-8ce1-85046bee39f5"
      },
      "source": [
        "# Usando filter para Strings\n",
        "minusculas = list(filter(segundo_filtro, letras))\n",
        "print(minusculas)"
      ],
      "id": "e91c748d",
      "execution_count": null,
      "outputs": [
        {
          "output_type": "stream",
          "text": [
            "['a', 'b', 'c', 'e', 'i', 'k', 'l', 'm', 'n', 'o']\n"
          ],
          "name": "stdout"
        }
      ]
    },
    {
      "cell_type": "code",
      "metadata": {
        "colab": {
          "base_uri": "https://localhost:8080/"
        },
        "id": "20e472a9",
        "outputId": "d048bbb6-ce10-4d58-f8fe-15f870e97bc9"
      },
      "source": [
        "# Usando map()\n",
        "quadrados = list(map(quadrado, numeros))\n",
        "print(quadrados)"
      ],
      "id": "20e472a9",
      "execution_count": null,
      "outputs": [
        {
          "output_type": "stream",
          "text": [
            "[1, 64, 16, 25, 169, 676, 145161, 168100, 3364, 2209]\n"
          ],
          "name": "stdout"
        }
      ]
    },
    {
      "cell_type": "code",
      "metadata": {
        "id": "c6dde3de",
        "outputId": "6da3d091-9a49-441d-b0c8-7459147db0c4"
      },
      "source": [
        "notas = sorted(notas)\n",
        "conceitos = list(map(nota_para_conceito, notas))\n",
        "print(conceitos)"
      ],
      "id": "c6dde3de",
      "execution_count": null,
      "outputs": [
        {
          "output_type": "stream",
          "text": [
            "['F', 'D', 'C', 'C', 'B', 'B', 'A', 'A']\n"
          ],
          "name": "stdout"
        }
      ]
    },
    {
      "cell_type": "code",
      "metadata": {
        "id": "51caf183",
        "outputId": "5f3bbe54-dc01-483e-94a8-3748dd660d20"
      },
      "source": [
        "import itertools as it\n",
        "\n",
        "def condicao (x):\n",
        "    pass\n",
        "\n",
        "#Iterador cycle pode ser usado como o iter para iterar sobre uma lista\n",
        "pessoas = [\"Lucas\", \"Maria\", \"João\"]\n",
        "ciclo = it.cycle(pessoas)\n",
        "i = 0\n",
        "while i < 4:\n",
        "    print(next(ciclo))\n",
        "    i += 1"
      ],
      "id": "51caf183",
      "execution_count": null,
      "outputs": [
        {
          "output_type": "stream",
          "text": [
            "Lucas\n",
            "Maria\n",
            "João\n",
            "Lucas\n"
          ],
          "name": "stdout"
        }
      ]
    },
    {
      "cell_type": "code",
      "metadata": {
        "id": "7ab1ba5b",
        "outputId": "a3091360-382e-45d3-fdc7-1dc0a698c39e"
      },
      "source": [
        "contador = itertools.count(100, 10)\n",
        "print(next(contador))\n",
        "print(next(contador))\n"
      ],
      "id": "7ab1ba5b",
      "execution_count": null,
      "outputs": [
        {
          "output_type": "stream",
          "text": [
            "100\n",
            "110\n"
          ],
          "name": "stdout"
        }
      ]
    },
    {
      "cell_type": "code",
      "metadata": {
        "id": "a05f9823"
      },
      "source": [
        "# accumulate cria um iterador que acumula valores \n",
        "\n",
        "valores = [10,20,30,40,50,40,30]\n",
        "acumulados = it.accumulate(valores, max)\n",
        "print(list(acumulados))"
      ],
      "id": "a05f9823",
      "execution_count": null,
      "outputs": []
    },
    {
      "cell_type": "code",
      "metadata": {
        "id": "dadc21b4"
      },
      "source": [
        "# uso da afunção chain para conectar listas\n",
        "x = it.chain(\"ABCD\", \"1234\")\n",
        "print(list(x))"
      ],
      "id": "dadc21b4",
      "execution_count": null,
      "outputs": []
    },
    {
      "cell_type": "code",
      "metadata": {
        "id": "f5d730e4"
      },
      "source": [
        "# as funções dropwhile e takewhile vão retornar valores até que uma condição seja atingida\n",
        "def condicao(x):\n",
        "    return x < 40\n",
        "    \n",
        "\n",
        "print(list(it.dropwhile(condicao,valores))) # inverte a condicao\n",
        "print(list(it.takewhile(condicao,valores))) # obedece a condicao\n"
      ],
      "id": "f5d730e4",
      "execution_count": null,
      "outputs": []
    },
    {
      "cell_type": "code",
      "metadata": {
        "id": "1e29ace2"
      },
      "source": [
        "  # Criando documentações\n",
        "def minha_funcao(arg1, arg2=None):\n",
        "\n",
        " \n",
        " \"\"\"Minha função que faz um print dos argumentos passados\n",
        "   Params:\n",
        "     arg1: primeiro argumento, algo interessante.\n",
        "     arg2: segundo argumento, Default: None.\n",
        "\"\"\"\n",
        "\n",
        " print(arg1, arg2)\n",
        "\n",
        "print(minha_funcao.__doc__)"
      ],
      "id": "1e29ace2",
      "execution_count": null,
      "outputs": []
    },
    {
      "cell_type": "markdown",
      "metadata": {
        "id": "72M2alMau6HB"
      },
      "source": [
        "**Docstrings: Boas Práticas**\n",
        "\n",
        "\n",
        "\n",
        "*   Use aspas triplas para delimitar docstrings\n",
        "*   A primeira linha deve ser uma frase resumo da funcionalidade\n",
        "*   Módulos: Liste classes importantes, funções e possíveis exceções\n",
        "*   Classes: Liste métodos importantes\n",
        "\n"
      ],
      "id": "72M2alMau6HB"
    },
    {
      "cell_type": "code",
      "metadata": {
        "id": "Q6_khs04qtJZ"
      },
      "source": [
        "def adicao(*args):\n",
        "  return sum(args)\n",
        "\n",
        "print(adicao(5,15,69,78,33))\n",
        "valores = [5,15,69,78,33]\n",
        "print(adicao(*valores))\n"
      ],
      "id": "Q6_khs04qtJZ",
      "execution_count": null,
      "outputs": []
    },
    {
      "cell_type": "code",
      "metadata": {
        "colab": {
          "base_uri": "https://localhost:8080/"
        },
        "id": "gk3WpX8Ori0C",
        "outputId": "00c38eaa-30fd-4ab5-e8e7-7187d28468be"
      },
      "source": [
        "# Funções anonimas ou lambda\n",
        "def c_f(t):\n",
        "  return (t * 9/5) + 32\n",
        "\n",
        "def f_c(t):\n",
        "  return (t-32) * 5/9\n",
        "\n",
        "c = [0,12,34,100]\n",
        "f = [32,65,100,212]\n",
        "\n",
        "print(list(map(f_c, f)))\n",
        "print(list(map(c_f, c)))\n",
        "\n",
        "# Usando lambda para converter as temperaturas\n",
        "\n"
      ],
      "id": "gk3WpX8Ori0C",
      "execution_count": null,
      "outputs": [
        {
          "output_type": "stream",
          "text": [
            "[0.0, 18.333333333333332, 37.77777777777778, 100.0]\n",
            "[32.0, 53.6, 93.2, 212.0]\n"
          ],
          "name": "stdout"
        }
      ]
    },
    {
      "cell_type": "code",
      "metadata": {
        "id": "p0QjdIjQsvus",
        "colab": {
          "base_uri": "https://localhost:8080/"
        },
        "outputId": "8a5aba37-75d2-4967-906e-f3a6d48ef55d"
      },
      "source": [
        "# Funções anonimas ou lambda\n",
        "def c_f(t):\n",
        "  return (t * 9/5) + 32\n",
        "\n",
        "def f_c(t):\n",
        "  return (t-32) * 5/9\n",
        "\n",
        "c = [0,12,34,100]\n",
        "f = [32,65,100,212]\n",
        "\n",
        "# Usando lambda para converter as temperaturas\n",
        "print(list(map(lambda t: (t-32) * 5/9, f)))\n",
        "print(list(map(lambda t: (t * 9/5) + 32, c)))"
      ],
      "id": "p0QjdIjQsvus",
      "execution_count": null,
      "outputs": [
        {
          "output_type": "stream",
          "text": [
            "[0.0, 18.333333333333332, 37.77777777777778, 100.0]\n",
            "[32.0, 53.6, 93.2, 212.0]\n"
          ],
          "name": "stdout"
        }
      ]
    },
    {
      "cell_type": "code",
      "metadata": {
        "colab": {
          "base_uri": "https://localhost:8080/"
        },
        "id": "nvkO0MiduH8R",
        "outputId": "419d707f-9704-49bc-be7a-a464a8daa8b4"
      },
      "source": [
        "# Argumentos nomeados\n",
        "def f1 (arg1, arg2, *, suprimir_exceptions=False):\n",
        "  print(arg1, arg2, suprimir_exceptions)\n",
        "\n",
        "f1(1,2,suprimir_exceptions=True)\n"
      ],
      "id": "nvkO0MiduH8R",
      "execution_count": null,
      "outputs": [
        {
          "output_type": "stream",
          "text": [
            "1 2 True\n"
          ],
          "name": "stdout"
        }
      ]
    }
  ]
}