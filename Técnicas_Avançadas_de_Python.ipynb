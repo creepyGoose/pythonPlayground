{
 "cells": [
  {
   "cell_type": "code",
   "execution_count": null,
   "id": "b6b5b240",
   "metadata": {
    "id": "b6b5b240",
    "outputId": "5594f06d-4c8f-4dae-efb9-a44de2331f11"
   },
   "outputs": [
    {
     "name": "stdout",
     "output_type": "stream",
     "text": [
      "True\n"
     ]
    }
   ],
   "source": [
    "x = False\n",
    "print(not x)"
   ]
  },
  {
   "cell_type": "code",
   "execution_count": null,
   "id": "1b781dfc",
   "metadata": {
    "id": "1b781dfc",
    "outputId": "189ffa30-5853-49bc-f786-18119b2a1683"
   },
   "outputs": [
    {
     "name": "stdout",
     "output_type": "stream",
     "text": [
      "False\n"
     ]
    }
   ],
   "source": [
    "x = []\n",
    "print(bool(x))"
   ]
  },
  {
   "cell_type": "code",
   "execution_count": null,
   "id": "1208de9a",
   "metadata": {
    "id": "1208de9a",
    "outputId": "e5a04eb0-5e0b-4d1c-ef73-5f417284c748"
   },
   "outputs": [
    {
     "name": "stdout",
     "output_type": "stream",
     "text": [
      "False\n"
     ]
    }
   ],
   "source": [
    "y = {}\n",
    "print(bool(y))"
   ]
  },
  {
   "cell_type": "code",
   "execution_count": null,
   "id": "4fc39802",
   "metadata": {
    "id": "4fc39802",
    "outputId": "eb039476-0c3b-49c3-bcb1-2c762b09cdd7"
   },
   "outputs": [
    {
     "name": "stdout",
     "output_type": "stream",
     "text": [
      "b'ABCD'\n",
      "Isto é uma String\n",
      "Isto é uma StringABCD\n",
      "b'\\xff\\xfe\\x00\\x00I\\x00\\x00\\x00s\\x00\\x00\\x00t\\x00\\x00\\x00o\\x00\\x00\\x00 \\x00\\x00\\x00\\xe9\\x00\\x00\\x00 \\x00\\x00\\x00u\\x00\\x00\\x00m\\x00\\x00\\x00a\\x00\\x00\\x00 \\x00\\x00\\x00S\\x00\\x00\\x00t\\x00\\x00\\x00r\\x00\\x00\\x00i\\x00\\x00\\x00n\\x00\\x00\\x00g\\x00\\x00\\x00ABCD'\n"
     ]
    }
   ],
   "source": [
    "#definindo alguns valores iniciais\n",
    "b = bytes([0x41, 0x42, 0x43, 0x44])\n",
    "print(b)\n",
    "s = \"Isto é uma String\"\n",
    "print(s)\n",
    "#  Concatenando uma String com um conjunto de bytes\n",
    "print (s + b.decode('utf-8'))\n",
    "# Transformando uma String num conjunto de bytes\n",
    "print (s.encode('utf-32') + b)"
   ]
  },
  {
   "cell_type": "code",
   "execution_count": null,
   "id": "b7662af6",
   "metadata": {
    "id": "b7662af6",
    "outputId": "e14fe138-41bf-4575-ff20-217477aedfbc"
   },
   "outputs": [
    {
     "name": "stdout",
     "output_type": "stream",
     "text": [
      "Você está assistindo Python Avançando com Jéssica Temporal\n",
      "Você está assistindo Python Avançado com Jéssica Temporal\n",
      "Você está assistindo Python Avançado com Jessica Temporal\n"
     ]
    }
   ],
   "source": [
    "# Criação de templates\n",
    "\n",
    "from string import Template as t\n",
    "frase = \"Você está assistindo {0} com {1}\".format(\"Python Avançando\", \"Jéssica Temporal\")\n",
    "print(frase)\n",
    "\n",
    "templ = t(\"Você está assistindo ${curso} com ${instrutora}\")\n",
    "frase_2 = templ.substitute(\n",
    "      curso = 'Python Avançado',\n",
    "      instrutora = 'Jéssica Temporal'\n",
    ")\n",
    "print(frase_2)\n",
    "\n",
    "#Uso de dicionário\n",
    "dados = {\n",
    "    \"curso\": \"Python Avançado\",\n",
    "    \"instrutora\": \"Jessica Temporal\"\n",
    "}\n",
    "frase_3 = templ.substitute(dados)\n",
    "print(frase_3)"
   ]
  },
  {
   "cell_type": "code",
   "execution_count": null,
   "id": "c9b2393c",
   "metadata": {
    "id": "c9b2393c",
    "outputId": "a6d9c369-5e13-489c-b9d8-205904dab309",
    "scrolled": true
   },
   "outputs": [
    {
     "name": "stdout",
     "output_type": "stream",
     "text": [
      "True\n",
      "False\n",
      "0\n",
      "6\n",
      "17\n"
     ]
    }
   ],
   "source": [
    "lista = [1, 2, 3, 0, 5, 6]\n",
    "# Any retorna true se qualquer valor lista for true\n",
    "print(any(lista))\n",
    "\n",
    "# All retorna se TODOS forem TRUE\n",
    "print(all(lista))\n",
    "\n",
    "# Min retorna o menor valor e Max o maior\n",
    "print(min(lista))\n",
    "print(max(lista))\n",
    "\n",
    "# Sum retorna a soma\n",
    "print(sum(lista))"
   ]
  },
  {
   "cell_type": "code",
   "execution_count": null,
   "id": "0cd254c3",
   "metadata": {
    "id": "0cd254c3",
    "outputId": "0a27ece7-b53b-46eb-f3fb-53001281b109"
   },
   "outputs": [
    {
     "name": "stdout",
     "output_type": "stream",
     "text": [
      "Dom\n",
      "Seg\n",
      "Ter\n",
      "Essa é a linha 1\n",
      "\n",
      "Essa é a linha 2\n",
      "\n",
      "Essa é a linha 3\n",
      "\n",
      "Essa é a linha 4\n",
      "\n",
      "Essa é a linha 5\n",
      "\n",
      "Essa é a linha 6\n",
      "\n",
      "0 Dom\n",
      "1 Seg\n",
      "2 Ter\n",
      "3 Qua\n",
      "4 Qui\n",
      "5 Sex\n",
      "6 Sab\n"
     ]
    }
   ],
   "source": [
    "# Usando iterados como enumerate, zip, iter, next\n",
    "\n",
    "dias = [\"Dom\",\"Seg\", \"Ter\", \"Qua\", \"Qui\", \"Sex\", \"Sab\"]\n",
    "dias_en = [\"Sun\", \"Mon\", \"Tue\", \"Wed\", \"Thu\", \"Fri\", \"Sat\"]\n",
    "\n",
    "i = 0\n",
    "iterador_dias = iter(dias)\n",
    "while i < 3:\n",
    "    print(next(iterador_dias))\n",
    "    i += 1\n",
    "    \n",
    "# Usando o iterador num arquivo .txt\n",
    "with open ('./dados.txt', 'r', encoding='utf8') as a:\n",
    "    for linha in iter(a.readline, ''): #Pulando uma casa\n",
    "        print(linha)\n",
    "        \n",
    "#Usando iteração tradicional (range) sobre a lista dias\n",
    "for numero in range(len(dias)):\n",
    "    print(numero, dias[numero])   \n",
    "    \n",
    "# Usando enumerate. Útil para fazer manipulações de sequências \n",
    "for i, dia in\n"
   ]
  },
  {
   "cell_type": "code",
   "execution_count": null,
   "id": "06228ba3",
   "metadata": {
    "id": "06228ba3",
    "outputId": "f27a266a-1a76-4562-ca93-9a0b1070c85f"
   },
   "outputs": [
    {
     "name": "stdout",
     "output_type": "stream",
     "text": [
      "0 Dom\n",
      "1 Seg\n",
      "2 Ter\n",
      "3 Qua\n",
      "4 Qui\n",
      "5 Sex\n",
      "6 Sab\n"
     ]
    }
   ],
   "source": [
    "# Usando enumerate. Útil para fazer manipulações de sequências \n",
    "for i, dia in enumerate(dias):\n",
    "    print(i, dia)"
   ]
  },
  {
   "cell_type": "code",
   "execution_count": null,
   "id": "18428bd3",
   "metadata": {
    "id": "18428bd3",
    "outputId": "59a857d3-a078-4b23-e2d4-c2dae8a646f0"
   },
   "outputs": [
    {
     "name": "stdout",
     "output_type": "stream",
     "text": [
      "('Dom', 'Sun')\n",
      "('Seg', 'Mon')\n",
      "('Ter', 'Tue')\n",
      "('Qua', 'Wed')\n",
      "('Qui', 'Thu')\n",
      "('Sex', 'Fri')\n",
      "('Sab', 'Sat')\n"
     ]
    }
   ],
   "source": [
    "# Usando zip para combinar listas. Retorna uma tupla pra cada par de valores\n",
    "for d in zip(dias, dias_en):\n",
    "    print(d)"
   ]
  },
  {
   "cell_type": "code",
   "execution_count": null,
   "id": "2590a77f",
   "metadata": {
    "id": "2590a77f",
    "outputId": "d555e366-e3da-4a6d-bff7-330a17e2f2f2"
   },
   "outputs": [
    {
     "name": "stdout",
     "output_type": "stream",
     "text": [
      "0 Dom = Sun em inglês\n",
      "1 Seg = Mon em inglês\n",
      "2 Ter = Tue em inglês\n",
      "3 Qua = Wed em inglês\n",
      "4 Qui = Thu em inglês\n",
      "5 Sex = Fri em inglês\n",
      "6 Sab = Sat em inglês\n"
     ]
    }
   ],
   "source": [
    "# Combinando enumerate e zip\n",
    "for i, d in enumerate(zip(dias, dias_en)):\n",
    "    print(i ,d[0], \"=\", d[1], \"em inglês\")"
   ]
  },
  {
   "cell_type": "code",
   "execution_count": 3,
   "id": "08253f70",
   "metadata": {
    "id": "08253f70"
   },
   "outputs": [],
   "source": [
    "#Funções transformadoras\n",
    "def primeiro_filtro(x):\n",
    "    if x % 2 == 0:\n",
    "        return False\n",
    "    return True\n",
    "\n",
    "def segundo_filtro(x):\n",
    "    if x.isupper():\n",
    "        return False\n",
    "    return True\n",
    "\n",
    "def quadrado(x):\n",
    "    return x**2\n",
    "\n",
    "def nota_para_conceito(x):\n",
    "   if x >= 90:\n",
    "     return \"A\"\n",
    "   elif (x >= 80 and x < 90):\n",
    "     return \"B\"\n",
    "   elif (x >= 70 and x < 80):\n",
    "     return \"C\"\n",
    "   elif (x >= 65 and x < 70):\n",
    "     return \"D\"\n",
    "   else:\n",
    "    return \"F\"\n",
    "  \n",
    "    \n",
    "\n",
    "numeros = (1, 8, 4, 5, 13, 26, 381, 410, 58, 47)\n",
    "letras = \"abcDeFGHiJklmnoP\"\n",
    "notas = (81,89,94,78,61,66,99,74)"
   ]
  },
  {
   "cell_type": "code",
   "execution_count": 3,
   "id": "468b7976",
   "metadata": {
    "colab": {
     "base_uri": "https://localhost:8080/"
    },
    "id": "468b7976",
    "outputId": "eb9ac403-6cda-4bb3-8c53-c69469605c0b"
   },
   "outputs": [
    {
     "name": "stdout",
     "output_type": "stream",
     "text": [
      "[1, 5, 13, 381, 47]\n"
     ]
    }
   ],
   "source": [
    "# Usando filter para remover itens de uma listas\n",
    "impares = list(filter(primeiro_filtro, numeros))\n",
    "print(impares)"
   ]
  },
  {
   "cell_type": "code",
   "execution_count": 9,
   "id": "e91c748d",
   "metadata": {
    "colab": {
     "base_uri": "https://localhost:8080/"
    },
    "id": "e91c748d",
    "outputId": "baa07d78-3252-4ac5-8ce1-85046bee39f5"
   },
   "outputs": [
    {
     "name": "stdout",
     "output_type": "stream",
     "text": [
      "['a', 'b', 'c', 'e', 'i', 'k', 'l', 'm', 'n', 'o']\n"
     ]
    }
   ],
   "source": [
    "# Usando filter para Strings\n",
    "minusculas = list(filter(segundo_filtro, letras))\n",
    "print(minusculas)"
   ]
  },
  {
   "cell_type": "code",
   "execution_count": 2,
   "id": "20e472a9",
   "metadata": {
    "colab": {
     "base_uri": "https://localhost:8080/"
    },
    "id": "20e472a9",
    "outputId": "d048bbb6-ce10-4d58-f8fe-15f870e97bc9"
   },
   "outputs": [
    {
     "name": "stdout",
     "output_type": "stream",
     "text": [
      "[1, 64, 16, 25, 169, 676, 145161, 168100, 3364, 2209]\n"
     ]
    }
   ],
   "source": [
    "# Usando map()\n",
    "quadrados = list(map(quadrado, numeros))\n",
    "print(quadrados)"
   ]
  },
  {
   "cell_type": "code",
   "execution_count": 4,
   "id": "c6dde3de",
   "metadata": {
    "id": "c6dde3de"
   },
   "outputs": [
    {
     "name": "stdout",
     "output_type": "stream",
     "text": [
      "['F', 'D', 'C', 'C', 'B', 'B', 'A', 'A']\n"
     ]
    }
   ],
   "source": [
    "notas = sorted(notas)\n",
    "conceitos = list(map(nota_para_conceito, notas))\n",
    "print(conceitos)"
   ]
  },
  {
   "cell_type": "code",
   "execution_count": 7,
   "id": "51caf183",
   "metadata": {},
   "outputs": [
    {
     "name": "stdout",
     "output_type": "stream",
     "text": [
      "Lucas\n",
      "Maria\n",
      "João\n",
      "Lucas\n"
     ]
    }
   ],
   "source": [
    "import itertools \n",
    "\n",
    "def condicao (x):\n",
    "    pass\n",
    "\n",
    "#Iterador cycle pode ser usado como o iter para iterar sobre uma lista\n",
    "pessoas = [\"Lucas\", \"Maria\", \"João\"]\n",
    "ciclo = itertools.cycle(pessoas)\n",
    "i = 0\n",
    "while i < 4:\n",
    "    print(next(ciclo))\n",
    "    i += 1"
   ]
  },
  {
   "cell_type": "code",
   "execution_count": 10,
   "id": "7ab1ba5b",
   "metadata": {},
   "outputs": [
    {
     "name": "stdout",
     "output_type": "stream",
     "text": [
      "100\n"
     ]
    },
    {
     "ename": "TypeError",
     "evalue": "'<' not supported between instances of 'int' and 'itertools.count'",
     "output_type": "error",
     "traceback": [
      "\u001b[1;31m---------------------------------------------------------------------------\u001b[0m",
      "\u001b[1;31mTypeError\u001b[0m                                 Traceback (most recent call last)",
      "\u001b[1;32m~\\AppData\\Local\\Temp/ipykernel_7636/412399898.py\u001b[0m in \u001b[0;36m<module>\u001b[1;34m\u001b[0m\n\u001b[0;32m      2\u001b[0m \u001b[0mprint\u001b[0m\u001b[1;33m(\u001b[0m\u001b[0mnext\u001b[0m\u001b[1;33m(\u001b[0m\u001b[0mcontador\u001b[0m\u001b[1;33m)\u001b[0m\u001b[1;33m)\u001b[0m\u001b[1;33m\u001b[0m\u001b[1;33m\u001b[0m\u001b[0m\n\u001b[0;32m      3\u001b[0m \u001b[0mj\u001b[0m \u001b[1;33m=\u001b[0m \u001b[1;36m0\u001b[0m\u001b[1;33m\u001b[0m\u001b[1;33m\u001b[0m\u001b[0m\n\u001b[1;32m----> 4\u001b[1;33m \u001b[1;32mwhile\u001b[0m \u001b[0mj\u001b[0m \u001b[1;33m<\u001b[0m \u001b[0mcontador\u001b[0m\u001b[1;33m:\u001b[0m\u001b[1;33m\u001b[0m\u001b[1;33m\u001b[0m\u001b[0m\n\u001b[0m\u001b[0;32m      5\u001b[0m     \u001b[0mprint\u001b[0m\u001b[1;33m(\u001b[0m\u001b[0mnext\u001b[0m\u001b[1;33m(\u001b[0m\u001b[0mcontador\u001b[0m\u001b[1;33m)\u001b[0m\u001b[1;33m)\u001b[0m\u001b[1;33m\u001b[0m\u001b[1;33m\u001b[0m\u001b[0m\n\u001b[0;32m      6\u001b[0m     \u001b[0mj\u001b[0m \u001b[1;33m+=\u001b[0m \u001b[1;36m1\u001b[0m\u001b[1;33m\u001b[0m\u001b[1;33m\u001b[0m\u001b[0m\n",
      "\u001b[1;31mTypeError\u001b[0m: '<' not supported between instances of 'int' and 'itertools.count'"
     ]
    }
   ],
   "source": [
    "contador = itertools.count(100, 10)\n",
    "print(next(contador))\n",
    "print(next(contador))\n"
   ]
  },
  {
   "cell_type": "code",
   "execution_count": null,
   "id": "a05f9823",
   "metadata": {},
   "outputs": [],
   "source": [
    "# accumulate cria um iterador que acumula valores \n",
    "\n",
    "valores = [10,20,30,40,50,40,30]"
   ]
  }
 ],
 "metadata": {
  "colab": {
   "collapsed_sections": [],
   "name": "Técnicas Avançadas de Python.ipynb",
   "provenance": []
  },
  "kernelspec": {
   "display_name": "Python 3 (ipykernel)",
   "language": "python",
   "name": "python3"
  },
  "language_info": {
   "codemirror_mode": {
    "name": "ipython",
    "version": 3
   },
   "file_extension": ".py",
   "mimetype": "text/x-python",
   "name": "python",
   "nbconvert_exporter": "python",
   "pygments_lexer": "ipython3",
   "version": "3.9.6"
  }
 },
 "nbformat": 4,
 "nbformat_minor": 5
}
